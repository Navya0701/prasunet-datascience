{
 "cells": [
  {
   "cell_type": "code",
   "execution_count": 2,
   "id": "0a926caa-c70d-4ed2-bd65-c585403d3103",
   "metadata": {},
   "outputs": [],
   "source": [
    "import pandas as pd\n",
    "import matplotlib.pyplot as plt#these were all libraries used inorder to acheive our desired output\n",
    "import numpy as np"
   ]
  },
  {
   "cell_type": "code",
   "execution_count": 3,
   "id": "857a4589-d87d-45c5-a6cc-dac2f0343c69",
   "metadata": {},
   "outputs": [],
   "source": [
    "train = pd.read_csv('twitter_training.csv')#here we r loading the training dataset\n",
    "valid= pd.read_csv('twitter_training.csv')#and here we are loading the validation dataset"
   ]
  },
  {
   "cell_type": "code",
   "execution_count": 4,
   "id": "b2219559-cf07-4016-b982-e5c7cd369e69",
   "metadata": {},
   "outputs": [
    {
     "data": {
      "text/html": [
       "<div>\n",
       "<style scoped>\n",
       "    .dataframe tbody tr th:only-of-type {\n",
       "        vertical-align: middle;\n",
       "    }\n",
       "\n",
       "    .dataframe tbody tr th {\n",
       "        vertical-align: top;\n",
       "    }\n",
       "\n",
       "    .dataframe thead th {\n",
       "        text-align: right;\n",
       "    }\n",
       "</style>\n",
       "<table border=\"1\" class=\"dataframe\">\n",
       "  <thead>\n",
       "    <tr style=\"text-align: right;\">\n",
       "      <th></th>\n",
       "      <th>tweet-id</th>\n",
       "      <th>entity</th>\n",
       "      <th>sentiment</th>\n",
       "      <th>content</th>\n",
       "    </tr>\n",
       "  </thead>\n",
       "  <tbody>\n",
       "    <tr>\n",
       "      <th>0</th>\n",
       "      <td>2401</td>\n",
       "      <td>Borderlands</td>\n",
       "      <td>Positive</td>\n",
       "      <td>I am coming to the borders and I will kill you...</td>\n",
       "    </tr>\n",
       "    <tr>\n",
       "      <th>1</th>\n",
       "      <td>2401</td>\n",
       "      <td>Borderlands</td>\n",
       "      <td>Positive</td>\n",
       "      <td>im getting on borderlands and i will kill you ...</td>\n",
       "    </tr>\n",
       "    <tr>\n",
       "      <th>2</th>\n",
       "      <td>2401</td>\n",
       "      <td>Borderlands</td>\n",
       "      <td>Positive</td>\n",
       "      <td>im coming on borderlands and i will murder you...</td>\n",
       "    </tr>\n",
       "    <tr>\n",
       "      <th>3</th>\n",
       "      <td>2401</td>\n",
       "      <td>Borderlands</td>\n",
       "      <td>Positive</td>\n",
       "      <td>im getting on borderlands 2 and i will murder ...</td>\n",
       "    </tr>\n",
       "    <tr>\n",
       "      <th>4</th>\n",
       "      <td>2401</td>\n",
       "      <td>Borderlands</td>\n",
       "      <td>Positive</td>\n",
       "      <td>im getting into borderlands and i can murder y...</td>\n",
       "    </tr>\n",
       "  </tbody>\n",
       "</table>\n",
       "</div>"
      ],
      "text/plain": [
       "   tweet-id       entity sentiment  \\\n",
       "0      2401  Borderlands  Positive   \n",
       "1      2401  Borderlands  Positive   \n",
       "2      2401  Borderlands  Positive   \n",
       "3      2401  Borderlands  Positive   \n",
       "4      2401  Borderlands  Positive   \n",
       "\n",
       "                                             content  \n",
       "0  I am coming to the borders and I will kill you...  \n",
       "1  im getting on borderlands and i will kill you ...  \n",
       "2  im coming on borderlands and i will murder you...  \n",
       "3  im getting on borderlands 2 and i will murder ...  \n",
       "4  im getting into borderlands and i can murder y...  "
      ]
     },
     "execution_count": 4,
     "metadata": {},
     "output_type": "execute_result"
    }
   ],
   "source": [
    "column_name = ['tweet-id', 'entity', 'sentiment', 'content']#now,we are re-naming the columns for our readability\n",
    "train.columns=column_name\n",
    "valid.columns=column_name\n",
    "t=pd.concat([train,valid],ignore_index=False)\n",
    "t.head()#this line helps us to display the first few rows of the dataset"
   ]
  },
  {
   "cell_type": "code",
   "execution_count": 5,
   "id": "00feda88-f0d9-4f6e-9377-cf6647e91a5f",
   "metadata": {},
   "outputs": [
    {
     "data": {
      "text/plain": [
       "['tweet-id', 'entity', 'sentiment', 'content']"
      ]
     },
     "execution_count": 5,
     "metadata": {},
     "output_type": "execute_result"
    }
   ],
   "source": [
    "t.columns.tolist()#here,this statement allows us to convert dataframe into list"
   ]
  },
  {
   "cell_type": "code",
   "execution_count": 6,
   "id": "bcbf3507-5667-4bf6-95c2-334bce733801",
   "metadata": {},
   "outputs": [
    {
     "name": "stdout",
     "output_type": "stream",
     "text": [
      "<class 'pandas.core.frame.DataFrame'>\n",
      "Index: 149362 entries, 0 to 74680\n",
      "Data columns (total 4 columns):\n",
      " #   Column     Non-Null Count   Dtype \n",
      "---  ------     --------------   ----- \n",
      " 0   tweet-id   149362 non-null  int64 \n",
      " 1   entity     149362 non-null  object\n",
      " 2   sentiment  149362 non-null  object\n",
      " 3   content    147990 non-null  object\n",
      "dtypes: int64(1), object(3)\n",
      "memory usage: 5.7+ MB\n"
     ]
    }
   ],
   "source": [
    "t.info()#it processes the information regarding the dataset"
   ]
  },
  {
   "cell_type": "code",
   "execution_count": 7,
   "id": "f629a192-822b-4535-9733-70d54b8ad510",
   "metadata": {},
   "outputs": [
    {
     "data": {
      "text/plain": [
       "tweet-id        0\n",
       "entity          0\n",
       "sentiment       0\n",
       "content      1372\n",
       "dtype: int64"
      ]
     },
     "execution_count": 7,
     "metadata": {},
     "output_type": "execute_result"
    }
   ],
   "source": [
    "t.isnull().sum()#this statement is used inorder clean the data from the dataset which we have uploaded"
   ]
  },
  {
   "cell_type": "code",
   "execution_count": 8,
   "id": "2e736dad-efa2-422c-a6d5-6a32b6e3b7af",
   "metadata": {},
   "outputs": [
    {
     "data": {
      "text/plain": [
       "np.int64(77381)"
      ]
     },
     "execution_count": 8,
     "metadata": {},
     "output_type": "execute_result"
    }
   ],
   "source": [
    "t.duplicated().sum()#used to count the number of duplicate rows in a pandas dataframe"
   ]
  },
  {
   "cell_type": "code",
   "execution_count": 9,
   "id": "bd32bce4-5160-46bf-82b4-2d41a16257f6",
   "metadata": {},
   "outputs": [
    {
     "name": "stdout",
     "output_type": "stream",
     "text": [
      "null: \n",
      " tweet-id     0\n",
      "entity       0\n",
      "sentiment    0\n",
      "content      0\n",
      "dtype: int64\n",
      "dup: 0\n"
     ]
    }
   ],
   "source": [
    "t.dropna(inplace=True)#removes the missing values\n",
    "t.drop_duplicates(inplace=True)#removes the duplicate rows\n",
    "print(\"null:\",\"\\n\",t.isnull().sum())#prints no.of missing values\n",
    "print(\"dup:\",t.duplicated().sum())#prints no.of duplicate rows"
   ]
  },
  {
   "cell_type": "code",
   "execution_count": 10,
   "id": "69008e30-2eb6-4211-953e-224ec79d0a66",
   "metadata": {},
   "outputs": [],
   "source": [
    "t.drop(columns=['tweet-id','content'],inplace=True)# removes the specified columns,'tweet-id' and 'content',from the dataframe "
   ]
  },
  {
   "cell_type": "code",
   "execution_count": 11,
   "id": "f61bbdc6-1ab4-44c6-9a65-3b1d92e03daf",
   "metadata": {},
   "outputs": [
    {
     "data": {
      "text/html": [
       "<div>\n",
       "<style scoped>\n",
       "    .dataframe tbody tr th:only-of-type {\n",
       "        vertical-align: middle;\n",
       "    }\n",
       "\n",
       "    .dataframe tbody tr th {\n",
       "        vertical-align: top;\n",
       "    }\n",
       "\n",
       "    .dataframe thead th {\n",
       "        text-align: right;\n",
       "    }\n",
       "</style>\n",
       "<table border=\"1\" class=\"dataframe\">\n",
       "  <thead>\n",
       "    <tr style=\"text-align: right;\">\n",
       "      <th></th>\n",
       "      <th>entity</th>\n",
       "      <th>sentiment</th>\n",
       "    </tr>\n",
       "  </thead>\n",
       "  <tbody>\n",
       "    <tr>\n",
       "      <th>0</th>\n",
       "      <td>Borderlands</td>\n",
       "      <td>Positive</td>\n",
       "    </tr>\n",
       "    <tr>\n",
       "      <th>1</th>\n",
       "      <td>Borderlands</td>\n",
       "      <td>Positive</td>\n",
       "    </tr>\n",
       "    <tr>\n",
       "      <th>2</th>\n",
       "      <td>Borderlands</td>\n",
       "      <td>Positive</td>\n",
       "    </tr>\n",
       "    <tr>\n",
       "      <th>3</th>\n",
       "      <td>Borderlands</td>\n",
       "      <td>Positive</td>\n",
       "    </tr>\n",
       "    <tr>\n",
       "      <th>4</th>\n",
       "      <td>Borderlands</td>\n",
       "      <td>Positive</td>\n",
       "    </tr>\n",
       "  </tbody>\n",
       "</table>\n",
       "</div>"
      ],
      "text/plain": [
       "        entity sentiment\n",
       "0  Borderlands  Positive\n",
       "1  Borderlands  Positive\n",
       "2  Borderlands  Positive\n",
       "3  Borderlands  Positive\n",
       "4  Borderlands  Positive"
      ]
     },
     "execution_count": 11,
     "metadata": {},
     "output_type": "execute_result"
    }
   ],
   "source": [
    "t.head()#displays first few rows"
   ]
  },
  {
   "cell_type": "code",
   "execution_count": 12,
   "id": "a0479bb2-facb-4356-a8f6-f4805298e603",
   "metadata": {},
   "outputs": [
    {
     "name": "stdout",
     "output_type": "stream",
     "text": [
      "<class 'pandas.core.frame.DataFrame'>\n",
      "Index: 71655 entries, 0 to 74680\n",
      "Data columns (total 2 columns):\n",
      " #   Column     Non-Null Count  Dtype \n",
      "---  ------     --------------  ----- \n",
      " 0   entity     71655 non-null  object\n",
      " 1   sentiment  71655 non-null  object\n",
      "dtypes: object(2)\n",
      "memory usage: 1.6+ MB\n"
     ]
    }
   ],
   "source": [
    "t.info()#displays information "
   ]
  },
  {
   "cell_type": "code",
   "execution_count": 13,
   "id": "1ff68d5b-be2c-4893-aca9-1356168974ee",
   "metadata": {},
   "outputs": [
    {
     "data": {
      "image/png": "[encoded data removed]",
      "text/plain": [
       "<Figure size 640x480 with 1 Axes>"
      ]
     },
     "metadata": {},
     "output_type": "display_data"
    }
   ],
   "source": [
    "sentiment_content=t['sentiment'].value_counts()\n",
    "color=plt.get_cmap('viridis')\n",
    "colors=[color(i) for i in np.linspace(0,1,len(sentiment_content))]\n",
    "sentiment_content.plot(kind='bar',color=colors,grid=True)# Plotting the sentiment distribution as a bar chart with colors from the 'viridis' colormap\n",
    "plt.title('Sentiment Distribution')\n",
    "plt.show()"
   ]
  },
  {
   "cell_type": "code",
   "execution_count": null,
   "id": "efeca342-406b-46bb-bf18-789b8c8ae4fe",
   "metadata": {},
   "outputs": [],
   "source": []
  },
  {
   "cell_type": "code",
   "execution_count": null,
   "id": "faf63562-9738-4ab5-b35b-83195ceda0ba",
   "metadata": {},
   "outputs": [],
   "source": []
  }
 ],
 "metadata": {
  "kernelspec": {
   "display_name": "Python 3 (ipykernel)",
   "language": "python",
   "name": "python3"
  },
  "language_info": {
   "codemirror_mode": {
    "name": "ipython",
    "version": 3
   },
   "file_extension": ".py",
   "mimetype": "text/x-python",
   "name": "python",
   "nbconvert_exporter": "python",
   "pygments_lexer": "ipython3",
   "version": "3.12.4"
  }
 },
 "nbformat": 4,
 "nbformat_minor": 5
}
